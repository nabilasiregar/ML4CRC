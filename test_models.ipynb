{
 "cells": [
  {
   "cell_type": "code",
   "execution_count": 1,
   "metadata": {},
   "outputs": [
    {
     "name": "stdout",
     "output_type": "stream",
     "text": [
      "[[-0.46356716 -0.58191878 -0.21586507 ... -0.06201737  0.\n",
      "  -0.06201737]\n",
      " [ 1.14803496  0.4577952   0.48839472 ... -0.06201737  0.\n",
      "  -0.06201737]\n",
      " [ 1.75238575  0.58602294  0.31232977 ... -0.06201737  0.\n",
      "  -0.06201737]\n",
      " ...\n",
      " [ 2.79992713  0.02459928 -0.74405992 ... -0.06201737  0.\n",
      "  -0.06201737]\n",
      " [ 1.12788993  2.48806895  2.07297926 ... -0.06201737  0.\n",
      "  -0.06201737]\n",
      " [-1.10820801 -1.46120303 -1.44831971 ... -0.06201737  0.\n",
      "  -0.06201737]]\n",
      "151    MSI-H\n",
      "187      MSS\n",
      "62       MSS\n",
      "204      MSS\n",
      "400    MSI-H\n",
      "       ...  \n",
      "119    MSI-H\n",
      "389      MSS\n",
      "219      MSS\n",
      "293      MSS\n",
      "434    MSI-L\n",
      "Name: msi_status, Length: 261, dtype: object\n",
      "[[ 0.82571453  1.30619166  0.84052462 ... -0.06201737  0.\n",
      "  -0.06201737]\n",
      " [-0.9470478   0.51704838  0.66445967 ... -0.06201737  0.\n",
      "  -0.06201737]\n",
      " [-1.16864309 -1.11491392 -0.92012486 ... -0.06201737  0.\n",
      "  -0.06201737]\n",
      " ...\n",
      " [-1.0276279  -0.62812442 -0.56799497 ... -0.06201737  0.\n",
      "  -0.06201737]\n",
      " [-0.42327711  0.51638795  0.66445967 ... -0.06201737  0.\n",
      "  -0.06201737]\n",
      " [-0.70530748 -0.26262105 -0.03980012 ... -0.06201737  0.\n",
      "  -0.06201737]]\n",
      "377      MSS\n",
      "104    MSI-L\n",
      "70       MSS\n",
      "327      MSS\n",
      "125    MSI-H\n",
      "       ...  \n",
      "418    MSI-L\n",
      "320      MSS\n",
      "230    MSI-H\n",
      "383      MSS\n",
      "237      MSS\n",
      "Name: msi_status, Length: 87, dtype: object\n",
      "[[-0.96719282 -0.47557121 -0.21586507 ... -0.06201737  0.\n",
      "  -0.06201737]\n",
      " [-0.50385721 -1.45925798 -1.44831971 ... -0.06201737  0.\n",
      "  -0.06201737]\n",
      " [ 1.59122554  1.62377734  1.36871946 ... -0.06201737  0.\n",
      "  -0.06201737]\n",
      " ...\n",
      " [-1.06791795 -1.45689282 -1.44831971 ... -0.06201737  0.\n",
      "  -0.06201737]\n",
      " [ 0.01991347  1.87282644  2.42510915 ... -0.06201737  0.\n",
      "  -0.06201737]\n",
      " [ 0.08034855  0.6451394   0.66445967 ... -0.06201737  0.\n",
      "  -0.06201737]]\n",
      "304    MSI-L\n",
      "90     MSI-H\n",
      "126      MSS\n",
      "277      MSS\n",
      "349    MSI-L\n",
      "       ...  \n",
      "449      MSS\n",
      "69       MSS\n",
      "139    MSI-L\n",
      "33       MSS\n",
      "24       MSS\n",
      "Name: msi_status, Length: 87, dtype: object\n"
     ]
    }
   ],
   "source": [
    "import pandas as pd\n",
    "from sklearn.model_selection import train_test_split\n",
    "from sklearn.preprocessing import StandardScaler\n",
    "\n",
    "def preprocess_data(rna_data_path, prediction_data_path, train_data_path, val_data_path, test_data_path):\n",
    "    rna_data = pd.read_csv(rna_data_path)\n",
    "    prediction_data = pd.read_csv(prediction_data_path)\n",
    "    \n",
    "    rna_data.rename(columns={rna_data.columns[0]: 'SampleID'}, inplace=True)\n",
    "    prediction_data.rename(columns={prediction_data.columns[0]: 'SampleID'}, inplace=True)\n",
    "    \n",
    "    transposed_rna_data = rna_data.set_index('SampleID').transpose().reset_index().rename(columns={'index': 'SampleID'})\n",
    "    merged_data = pd.merge(prediction_data, transposed_rna_data, on='SampleID', how='inner')\n",
    "    merged_data.to_csv('C:/Users/eirin/OneDrive/Υπολογιστής/ML4CRC/merged.csv', index=False)\n",
    "\n",
    "    merged_data = merged_data.dropna(subset=['msi_status'])\n",
    "\n",
    "    # most_frequent = merged_data['msi_status'].value_counts().idxmax()\n",
    "    # merged_data['msi_status'].fillna(most_frequent, inplace=True)\n",
    "    \n",
    "    filtered_data = merged_data[merged_data['msi_status'] != 'Indeterminate'] # Filter out 'Indeterminate' MSI status\n",
    "    \n",
    "    features = filtered_data.drop(columns=['SampleID', 'msi_status']).select_dtypes(include=['int64', 'float64'])\n",
    "    target = filtered_data['msi_status']\n",
    "    \n",
    "    # Split the data into training+validation and test sets\n",
    "    X_temp, X_test, y_temp, y_test = train_test_split(features, target, test_size=0.2, random_state=42)\n",
    "    \n",
    "    # Split the training+validation set into individual training and validation sets\n",
    "    X_train, X_val, y_train, y_val = train_test_split(X_temp, y_temp, test_size=0.25, random_state=42)  # 0.25 x 0.8 = 0.2\n",
    "    \n",
    "    # Standardize the data based on the training set\n",
    "    scaler = StandardScaler()\n",
    "    X_train_scaled = scaler.fit_transform(X_train)\n",
    "    X_val_scaled = scaler.transform(X_val)\n",
    "    X_test_scaled = scaler.transform(X_test)\n",
    "    \n",
    "    pd.concat([pd.DataFrame(X_train_scaled, columns=X_train.columns), y_train.reset_index(drop=True)], axis=1).to_csv(train_data_path, index=False)\n",
    "    pd.concat([pd.DataFrame(X_val_scaled, columns=X_val.columns), y_val.reset_index(drop=True)], axis=1).to_csv(val_data_path, index=False)\n",
    "    pd.concat([pd.DataFrame(X_test_scaled, columns=X_test.columns), y_test.reset_index(drop=True)], axis=1).to_csv(test_data_path, index=False)\n",
    "    \n",
    "    return X_train_scaled, y_train, X_val_scaled, y_val, X_test_scaled, y_test\n",
    "\n",
    "rna_data_path = 'C:/Users/eirin/OneDrive/Υπολογιστής/ML4CRC/data/raw/tcga_rna_count_data_crc.csv'\n",
    "prediction_data_path = 'C:/Users/eirin/OneDrive/Υπολογιστής/ML4CRC/data/raw/prediction_file_crc.csv'\n",
    "train_data_path = 'C:/Users/eirin/OneDrive/Υπολογιστής/ML4CRC/data/processed/train_data.csv'\n",
    "val_data_path = 'C:/Users/eirin/OneDrive/Υπολογιστής/ML4CRC/data/processed/val_data.csv'\n",
    "test_data_path = 'C:/Users/eirin/OneDrive/Υπολογιστής/ML4CRC/data/processed/test_data.csv'\n",
    "X_train_scaled, y_train, X_val_scaled, y_val, X_test_scaled, y_test = preprocess_data(rna_data_path, prediction_data_path, train_data_path, val_data_path, test_data_path)\n",
    "\n",
    "\n",
    "print(X_train_scaled)\n",
    "print(y_train)\n",
    "print(X_val_scaled)\n",
    "print(y_val)\n",
    "print(X_test_scaled)\n",
    "print(y_test)"
   ]
  },
  {
   "cell_type": "code",
   "execution_count": 7,
   "metadata": {},
   "outputs": [
    {
     "data": {
      "text/html": [
       "<style>#sk-container-id-2 {color: black;}#sk-container-id-2 pre{padding: 0;}#sk-container-id-2 div.sk-toggleable {background-color: white;}#sk-container-id-2 label.sk-toggleable__label {cursor: pointer;display: block;width: 100%;margin-bottom: 0;padding: 0.3em;box-sizing: border-box;text-align: center;}#sk-container-id-2 label.sk-toggleable__label-arrow:before {content: \"▸\";float: left;margin-right: 0.25em;color: #696969;}#sk-container-id-2 label.sk-toggleable__label-arrow:hover:before {color: black;}#sk-container-id-2 div.sk-estimator:hover label.sk-toggleable__label-arrow:before {color: black;}#sk-container-id-2 div.sk-toggleable__content {max-height: 0;max-width: 0;overflow: hidden;text-align: left;background-color: #f0f8ff;}#sk-container-id-2 div.sk-toggleable__content pre {margin: 0.2em;color: black;border-radius: 0.25em;background-color: #f0f8ff;}#sk-container-id-2 input.sk-toggleable__control:checked~div.sk-toggleable__content {max-height: 200px;max-width: 100%;overflow: auto;}#sk-container-id-2 input.sk-toggleable__control:checked~label.sk-toggleable__label-arrow:before {content: \"▾\";}#sk-container-id-2 div.sk-estimator input.sk-toggleable__control:checked~label.sk-toggleable__label {background-color: #d4ebff;}#sk-container-id-2 div.sk-label input.sk-toggleable__control:checked~label.sk-toggleable__label {background-color: #d4ebff;}#sk-container-id-2 input.sk-hidden--visually {border: 0;clip: rect(1px 1px 1px 1px);clip: rect(1px, 1px, 1px, 1px);height: 1px;margin: -1px;overflow: hidden;padding: 0;position: absolute;width: 1px;}#sk-container-id-2 div.sk-estimator {font-family: monospace;background-color: #f0f8ff;border: 1px dotted black;border-radius: 0.25em;box-sizing: border-box;margin-bottom: 0.5em;}#sk-container-id-2 div.sk-estimator:hover {background-color: #d4ebff;}#sk-container-id-2 div.sk-parallel-item::after {content: \"\";width: 100%;border-bottom: 1px solid gray;flex-grow: 1;}#sk-container-id-2 div.sk-label:hover label.sk-toggleable__label {background-color: #d4ebff;}#sk-container-id-2 div.sk-serial::before {content: \"\";position: absolute;border-left: 1px solid gray;box-sizing: border-box;top: 0;bottom: 0;left: 50%;z-index: 0;}#sk-container-id-2 div.sk-serial {display: flex;flex-direction: column;align-items: center;background-color: white;padding-right: 0.2em;padding-left: 0.2em;position: relative;}#sk-container-id-2 div.sk-item {position: relative;z-index: 1;}#sk-container-id-2 div.sk-parallel {display: flex;align-items: stretch;justify-content: center;background-color: white;position: relative;}#sk-container-id-2 div.sk-item::before, #sk-container-id-2 div.sk-parallel-item::before {content: \"\";position: absolute;border-left: 1px solid gray;box-sizing: border-box;top: 0;bottom: 0;left: 50%;z-index: -1;}#sk-container-id-2 div.sk-parallel-item {display: flex;flex-direction: column;z-index: 1;position: relative;background-color: white;}#sk-container-id-2 div.sk-parallel-item:first-child::after {align-self: flex-end;width: 50%;}#sk-container-id-2 div.sk-parallel-item:last-child::after {align-self: flex-start;width: 50%;}#sk-container-id-2 div.sk-parallel-item:only-child::after {width: 0;}#sk-container-id-2 div.sk-dashed-wrapped {border: 1px dashed gray;margin: 0 0.4em 0.5em 0.4em;box-sizing: border-box;padding-bottom: 0.4em;background-color: white;}#sk-container-id-2 div.sk-label label {font-family: monospace;font-weight: bold;display: inline-block;line-height: 1.2em;}#sk-container-id-2 div.sk-label-container {text-align: center;}#sk-container-id-2 div.sk-container {/* jupyter's `normalize.less` sets `[hidden] { display: none; }` but bootstrap.min.css set `[hidden] { display: none !important; }` so we also need the `!important` here to be able to override the default hidden behavior on the sphinx rendered scikit-learn.org. See: https://github.com/scikit-learn/scikit-learn/issues/21755 */display: inline-block !important;position: relative;}#sk-container-id-2 div.sk-text-repr-fallback {display: none;}</style><div id=\"sk-container-id-2\" class=\"sk-top-container\"><div class=\"sk-text-repr-fallback\"><pre>SVC(C=0.25, kernel=&#x27;linear&#x27;, random_state=0)</pre><b>In a Jupyter environment, please rerun this cell to show the HTML representation or trust the notebook. <br />On GitHub, the HTML representation is unable to render, please try loading this page with nbviewer.org.</b></div><div class=\"sk-container\" hidden><div class=\"sk-item\"><div class=\"sk-estimator sk-toggleable\"><input class=\"sk-toggleable__control sk-hidden--visually\" id=\"sk-estimator-id-2\" type=\"checkbox\" checked><label for=\"sk-estimator-id-2\" class=\"sk-toggleable__label sk-toggleable__label-arrow\">SVC</label><div class=\"sk-toggleable__content\"><pre>SVC(C=0.25, kernel=&#x27;linear&#x27;, random_state=0)</pre></div></div></div></div></div>"
      ],
      "text/plain": [
       "SVC(C=0.25, kernel='linear', random_state=0)"
      ]
     },
     "execution_count": 7,
     "metadata": {},
     "output_type": "execute_result"
    }
   ],
   "source": [
    "# Train the SVM model\n",
    "\n",
    "from sklearn.svm import SVC\n",
    "\n",
    "classifier = SVC(C=0.25, kernel = 'linear', random_state = 0)\n",
    "classifier.fit(X_train_scaled, y_train)"
   ]
  },
  {
   "cell_type": "code",
   "execution_count": 8,
   "metadata": {},
   "outputs": [
    {
     "name": "stdout",
     "output_type": "stream",
     "text": [
      "[[11  1  1]\n",
      " [ 0  1 12]\n",
      " [ 4  6 51]]\n",
      "              precision    recall  f1-score   support\n",
      "\n",
      "       MSI-H       0.73      0.85      0.79        13\n",
      "       MSI-L       0.12      0.08      0.10        13\n",
      "         MSS       0.80      0.84      0.82        61\n",
      "\n",
      "    accuracy                           0.72        87\n",
      "   macro avg       0.55      0.59      0.57        87\n",
      "weighted avg       0.69      0.72      0.70        87\n",
      "\n"
     ]
    }
   ],
   "source": [
    "# Confusion matrix precision recall f1-score\n",
    "\n",
    "from sklearn.metrics import confusion_matrix, classification_report\n",
    "\n",
    "y_pred = classifier.predict(X_val_scaled)\n",
    "print(confusion_matrix(y_val, y_pred))\n",
    "print(classification_report(y_val, y_pred))\n"
   ]
  },
  {
   "cell_type": "markdown",
   "metadata": {},
   "source": [
    "Hyperparameter Tuning"
   ]
  },
  {
   "cell_type": "code",
   "execution_count": 6,
   "metadata": {},
   "outputs": [
    {
     "name": "stdout",
     "output_type": "stream",
     "text": [
      "0.7472934472934473\n",
      "{'C': 0.25, 'kernel': 'linear'}\n"
     ]
    }
   ],
   "source": [
    "from sklearn.model_selection import GridSearchCV\n",
    "\n",
    "parameters = [{'C' : [0.25, 0.5, 0.75, 1], 'kernel' : ['linear']},\n",
    "              {'C' : [0.25, 0.5, 0.75, 1], 'kernel' : ['rbf'], 'gamma' : [0.1, 0.2, 0.3, 0.4, 0.5]}]\n",
    "\n",
    "grid_search = GridSearchCV(estimator = classifier, param_grid = parameters, scoring = 'accuracy', cv = 10, n_jobs = -1)\n",
    "\n",
    "grid_search = grid_search.fit(X_train_scaled, y_train)\n",
    "\n",
    "best_accuracy = grid_search.best_score_\n",
    "best_parameters = grid_search.best_params_\n",
    "print(best_accuracy)\n",
    "print(best_parameters)"
   ]
  }
 ],
 "metadata": {
  "kernelspec": {
   "display_name": "Python 3",
   "language": "python",
   "name": "python3"
  },
  "language_info": {
   "codemirror_mode": {
    "name": "ipython",
    "version": 3
   },
   "file_extension": ".py",
   "mimetype": "text/x-python",
   "name": "python",
   "nbconvert_exporter": "python",
   "pygments_lexer": "ipython3",
   "version": "3.11.5"
  }
 },
 "nbformat": 4,
 "nbformat_minor": 2
}
