{
 "cells": [
  {
   "cell_type": "markdown",
   "metadata": {},
   "source": [
    "Import libraries needed to visualize dataset"
   ]
  },
  {
   "cell_type": "code",
   "execution_count": null,
   "metadata": {},
   "outputs": [],
   "source": [
    "import pandas as pd\n",
    "import matplotlib.pyplot as plt\n",
    "import missingno as msno\n",
    "import seaborn as sns\n",
    "import scipy.stats as stats"
   ]
  },
  {
   "cell_type": "code",
   "execution_count": null,
   "metadata": {},
   "outputs": [],
   "source": [
    "data = pd.read_csv('../data/raw/tcga_rna_count_data_crc.csv', header=None, index_col=0, skiprows=1)\n",
    "data.index.name = 'Gene'\n",
    "data.columns = data.iloc[0]  # Setting the sample IDs as the column names\n",
    "data = data.drop(data.index[0])  # Drop the duplicate row of sample IDs\n",
    "data = data.transpose()  # Transpose so that we have samples as rows and genes as columns\n",
    "\n",
    "# List of relevant genes for testing\n",
    "relevant_genes = [\n",
    "    'ATOH1', 'GRM8', 'PCDH8', 'CEL', 'CFTR', 'ENGASE', 'GP2', 'C5orf52', \n",
    "    'SATB2', 'CDX2', 'CYP2B6', 'NKD1', 'SMAD2', 'MTOR', 'NFE2L2', 'RB1', \n",
    "    'KEAP1', 'TERT', 'RASA1', 'CDC73', 'CTNNA1', 'ERBB4', 'CD8A', 'PRF1', \n",
    "    'GZMA', 'GZMB', 'CX3CL1', 'CXCL9', 'CXCL10', 'IFNG', 'IL1B', 'LAG3', \n",
    "    'CTLA4', 'CD274', 'PDCD1', 'TIGIT', 'IDO1', 'PDCD1LG2', 'VEGFA', 'VEGFB', 'VEGFC', 'VEGFD'\n",
    "]\n",
    "\n",
    "# Initialize a DataFrame to store the results\n",
    "shapiro_results = pd.DataFrame(columns=['Gene', 'Statistic', 'P-Value'])\n",
    "\n",
    "# Perform Shapiro-Wilk test for each relevant gene\n",
    "for gene in relevant_genes:\n",
    "    if gene in data.columns:\n",
    "        gene_expression = data[gene].astype(float).dropna()\n",
    "        statistic, p_value = stats.shapiro(gene_expression)\n",
    "        shapiro_results = shapiro_results.append({\n",
    "            'Gene': gene,\n",
    "            'Statistic': statistic,\n",
    "            'P-Value': p_value\n",
    "        }, ignore_index=True)\n",
    "    else:\n",
    "        print(f\"{gene} not found in dataset.\")\n",
    "\n",
    "results_csv_path = 'shapiro_results.csv'\n",
    "shapiro_results.to_csv(results_csv_path, index=False)\n",
    "\n",
    "results_csv_path"
   ]
  },
  {
   "cell_type": "markdown",
   "metadata": {},
   "source": [
    "Using the missingno Python library to identify and visualize missing data patterns prior to machine learning"
   ]
  },
  {
   "cell_type": "markdown",
   "metadata": {},
   "source": [
    "The missingno correlation heatmap measures nullity correlation: how strongly the presence or absence of one variable affects the presence of another. From the heatmap below, we can infer the missing values in msi_status is not correlated with other features."
   ]
  },
  {
   "cell_type": "code",
   "execution_count": null,
   "metadata": {},
   "outputs": [],
   "source": [
    "rna_data_path = '../data/raw/tcga_rna_count_data_crc.csv'\n",
    "prediction_data_path = '../data/raw/prediction_file_crc.csv'\n",
    "\n",
    "rna_data = pd.read_csv(rna_data_path, header=0, index_col=0).transpose()\n",
    "\n",
    "prediction_data = pd.read_csv(prediction_data_path, header=None)\n",
    "prediction_data.columns = ['SampleID'] + prediction_data.iloc[0, 1:].tolist()\n",
    "prediction_data = prediction_data[1:]\n",
    "\n",
    "merged_data = pd.merge(prediction_data, rna_data, left_on='SampleID', right_index=True)\n",
    "\n",
    "msno.heatmap(merged_data, figsize=(10, 8))\n",
    "plt.show()"
   ]
  }
 ],
 "metadata": {
  "kernelspec": {
   "display_name": "Python 3",
   "language": "python",
   "name": "python3"
  },
  "language_info": {
   "codemirror_mode": {
    "name": "ipython",
    "version": 3
   },
   "file_extension": ".py",
   "mimetype": "text/x-python",
   "name": "python",
   "nbconvert_exporter": "python",
   "pygments_lexer": "ipython3",
   "version": "3.11.4"
  }
 },
 "nbformat": 4,
 "nbformat_minor": 2
}
